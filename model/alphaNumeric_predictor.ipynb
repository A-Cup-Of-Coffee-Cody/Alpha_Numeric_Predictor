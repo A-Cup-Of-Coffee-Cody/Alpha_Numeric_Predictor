{
 "cells": [
  {
   "cell_type": "code",
   "execution_count": 11,
   "metadata": {},
   "outputs": [],
   "source": [
    "# Import base libraries\n",
    "import numpy as np\n",
    "import pandas as pd\n",
    "import tensorflow as tf\n",
    "\n",
    "# Import dataset\n",
    "from keras.datasets import mnist\n",
    "\n",
    "# Import keras libraries\n",
    "from sklearn.preprocessing import MinMaxScaler\n",
    "from sklearn.model_selection import train_test_split"
   ]
  },
  {
   "attachments": {},
   "cell_type": "markdown",
   "metadata": {},
   "source": [
    "# Preparing Data"
   ]
  },
  {
   "attachments": {},
   "cell_type": "markdown",
   "metadata": {},
   "source": [
    "## NIST Dataset"
   ]
  },
  {
   "cell_type": "code",
   "execution_count": 6,
   "metadata": {},
   "outputs": [],
   "source": [
    "nist_dataset = pd.read_csv('../../Alpha_Numeric_data/NIST_dataset.csv')\n",
    "\n",
    "# The first columns is the labels\n",
    "nist_dataset.rename(columns={'0': 'label'}, inplace=True)\n",
    "\n",
    "# Split the data into X and y\n",
    "X_char = nist_dataset.drop('label', axis=1)\n",
    "y_char = nist_dataset['label']"
   ]
  },
  {
   "attachments": {},
   "cell_type": "markdown",
   "metadata": {},
   "source": [
    "## Train Test Split"
   ]
  },
  {
   "cell_type": "code",
   "execution_count": 10,
   "metadata": {},
   "outputs": [],
   "source": [
    "# Numerical\n",
    "(X_num_train, y_num_train), (X_num_test, y_num_test) = mnist.load_data()\n",
    "\n",
    "# Characters\n",
    "X_char_train, y_char_train, X_char_test, y_char_test = train_test_split(X_char, y_char)"
   ]
  },
  {
   "cell_type": "code",
   "execution_count": 12,
   "metadata": {},
   "outputs": [
    {
     "ename": "ValueError",
     "evalue": "all the input arrays must have same number of dimensions, but the array at index 0 has 2 dimension(s) and the array at index 1 has 3 dimension(s)",
     "output_type": "error",
     "traceback": [
      "\u001b[1;31m---------------------------------------------------------------------------\u001b[0m",
      "\u001b[1;31mValueError\u001b[0m                                Traceback (most recent call last)",
      "Cell \u001b[1;32mIn [12], line 1\u001b[0m\n\u001b[1;32m----> 1\u001b[0m X_train \u001b[39m=\u001b[39m np\u001b[39m.\u001b[39;49mvstack([X_char_train,X_num_train])\n\u001b[0;32m      2\u001b[0m X_test  \u001b[39m=\u001b[39m np\u001b[39m.\u001b[39mvstack([X_char_test,X_num_train])\n\u001b[0;32m      3\u001b[0m y_train \u001b[39m=\u001b[39m pd\u001b[39m.\u001b[39mconcat([y_char_train,y_num_train], axis\u001b[39m=\u001b[39m\u001b[39m0\u001b[39m, ignore_index\u001b[39m=\u001b[39m\u001b[39mTrue\u001b[39;00m)\n",
      "File \u001b[1;32m<__array_function__ internals>:180\u001b[0m, in \u001b[0;36mvstack\u001b[1;34m(*args, **kwargs)\u001b[0m\n",
      "File \u001b[1;32mc:\\Users\\User\\.conda\\envs\\GPU_base_env\\lib\\site-packages\\numpy\\core\\shape_base.py:282\u001b[0m, in \u001b[0;36mvstack\u001b[1;34m(tup)\u001b[0m\n\u001b[0;32m    280\u001b[0m \u001b[39mif\u001b[39;00m \u001b[39mnot\u001b[39;00m \u001b[39misinstance\u001b[39m(arrs, \u001b[39mlist\u001b[39m):\n\u001b[0;32m    281\u001b[0m     arrs \u001b[39m=\u001b[39m [arrs]\n\u001b[1;32m--> 282\u001b[0m \u001b[39mreturn\u001b[39;00m _nx\u001b[39m.\u001b[39;49mconcatenate(arrs, \u001b[39m0\u001b[39;49m)\n",
      "File \u001b[1;32m<__array_function__ internals>:180\u001b[0m, in \u001b[0;36mconcatenate\u001b[1;34m(*args, **kwargs)\u001b[0m\n",
      "\u001b[1;31mValueError\u001b[0m: all the input arrays must have same number of dimensions, but the array at index 0 has 2 dimension(s) and the array at index 1 has 3 dimension(s)"
     ]
    }
   ],
   "source": [
    "X_train = np.vstack([X_char_train,X_num_train])\n",
    "X_test  = np.vstack([X_char_test,X_num_train])\n",
    "y_train = pd.concat([y_char_train,y_num_train], axis=0, ignore_index=True)\n",
    "y_test  = pd.concat([y_char_test,y_num_test], axis=0, ignore_index=True)\n",
    "y_train = tf.keras.utils.to_categorical(y_train)\n",
    "y_test = tf.keras.utils.to_categorical(y_test)"
   ]
  }
 ],
 "metadata": {
  "kernelspec": {
   "display_name": "GPU_base_env",
   "language": "python",
   "name": "python3"
  },
  "language_info": {
   "codemirror_mode": {
    "name": "ipython",
    "version": 3
   },
   "file_extension": ".py",
   "mimetype": "text/x-python",
   "name": "python",
   "nbconvert_exporter": "python",
   "pygments_lexer": "ipython3",
   "version": "3.8.15"
  },
  "orig_nbformat": 4,
  "vscode": {
   "interpreter": {
    "hash": "cb5a54df91939ff17ff587a8190f521b1d49b4bc9e4baa3d4e62330bbc78c46b"
   }
  }
 },
 "nbformat": 4,
 "nbformat_minor": 2
}
